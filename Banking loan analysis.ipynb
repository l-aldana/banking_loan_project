{
 "cells": [
  {
   "cell_type": "markdown",
   "id": "8837ba36",
   "metadata": {},
   "source": [
    "**DETERMINATE IF THE NUMBERS OF CHILDREN IS RELATED TO BE IN DEFALUL IN A BANK**"
   ]
  },
  {
   "cell_type": "markdown",
   "id": "bc9a311a",
   "metadata": {},
   "source": [
    "**IMPORTING LIBRARIES**"
   ]
  },
  {
   "cell_type": "code",
   "execution_count": 1,
   "id": "69c19c16",
   "metadata": {},
   "outputs": [],
   "source": [
    "import pandas as pd"
   ]
  },
  {
   "cell_type": "markdown",
   "id": "ba2864ff",
   "metadata": {},
   "source": [
    "**LOADING DATASET**"
   ]
  },
  {
   "cell_type": "code",
   "execution_count": 2,
   "id": "cbab5c89",
   "metadata": {},
   "outputs": [],
   "source": [
    "df = pd.read_csv('/datasets/credit_scoring_eng.csv')"
   ]
  },
  {
   "cell_type": "markdown",
   "id": "2083de86",
   "metadata": {},
   "source": [
    "**SHOWING MAIN FEATURES OF DATASETS**"
   ]
  },
  {
   "cell_type": "code",
   "execution_count": 3,
   "id": "8100b631",
   "metadata": {},
   "outputs": [
    {
     "data": {
      "text/html": [
       "<div>\n",
       "<style scoped>\n",
       "    .dataframe tbody tr th:only-of-type {\n",
       "        vertical-align: middle;\n",
       "    }\n",
       "\n",
       "    .dataframe tbody tr th {\n",
       "        vertical-align: top;\n",
       "    }\n",
       "\n",
       "    .dataframe thead th {\n",
       "        text-align: right;\n",
       "    }\n",
       "</style>\n",
       "<table border=\"1\" class=\"dataframe\">\n",
       "  <thead>\n",
       "    <tr style=\"text-align: right;\">\n",
       "      <th></th>\n",
       "      <th>children</th>\n",
       "      <th>days_employed</th>\n",
       "      <th>dob_years</th>\n",
       "      <th>education</th>\n",
       "      <th>education_id</th>\n",
       "      <th>family_status</th>\n",
       "      <th>family_status_id</th>\n",
       "      <th>gender</th>\n",
       "      <th>income_type</th>\n",
       "      <th>debt</th>\n",
       "      <th>total_income</th>\n",
       "      <th>purpose</th>\n",
       "    </tr>\n",
       "  </thead>\n",
       "  <tbody>\n",
       "    <tr>\n",
       "      <th>0</th>\n",
       "      <td>1</td>\n",
       "      <td>-8437.673028</td>\n",
       "      <td>42</td>\n",
       "      <td>bachelor's degree</td>\n",
       "      <td>0</td>\n",
       "      <td>married</td>\n",
       "      <td>0</td>\n",
       "      <td>F</td>\n",
       "      <td>employee</td>\n",
       "      <td>0</td>\n",
       "      <td>40620.102</td>\n",
       "      <td>purchase of the house</td>\n",
       "    </tr>\n",
       "    <tr>\n",
       "      <th>1</th>\n",
       "      <td>1</td>\n",
       "      <td>-4024.803754</td>\n",
       "      <td>36</td>\n",
       "      <td>secondary education</td>\n",
       "      <td>1</td>\n",
       "      <td>married</td>\n",
       "      <td>0</td>\n",
       "      <td>F</td>\n",
       "      <td>employee</td>\n",
       "      <td>0</td>\n",
       "      <td>17932.802</td>\n",
       "      <td>car purchase</td>\n",
       "    </tr>\n",
       "    <tr>\n",
       "      <th>2</th>\n",
       "      <td>0</td>\n",
       "      <td>-5623.422610</td>\n",
       "      <td>33</td>\n",
       "      <td>Secondary Education</td>\n",
       "      <td>1</td>\n",
       "      <td>married</td>\n",
       "      <td>0</td>\n",
       "      <td>M</td>\n",
       "      <td>employee</td>\n",
       "      <td>0</td>\n",
       "      <td>23341.752</td>\n",
       "      <td>purchase of the house</td>\n",
       "    </tr>\n",
       "    <tr>\n",
       "      <th>3</th>\n",
       "      <td>3</td>\n",
       "      <td>-4124.747207</td>\n",
       "      <td>32</td>\n",
       "      <td>secondary education</td>\n",
       "      <td>1</td>\n",
       "      <td>married</td>\n",
       "      <td>0</td>\n",
       "      <td>M</td>\n",
       "      <td>employee</td>\n",
       "      <td>0</td>\n",
       "      <td>42820.568</td>\n",
       "      <td>supplementary education</td>\n",
       "    </tr>\n",
       "    <tr>\n",
       "      <th>4</th>\n",
       "      <td>0</td>\n",
       "      <td>340266.072047</td>\n",
       "      <td>53</td>\n",
       "      <td>secondary education</td>\n",
       "      <td>1</td>\n",
       "      <td>civil partnership</td>\n",
       "      <td>1</td>\n",
       "      <td>F</td>\n",
       "      <td>retiree</td>\n",
       "      <td>0</td>\n",
       "      <td>25378.572</td>\n",
       "      <td>to have a wedding</td>\n",
       "    </tr>\n",
       "  </tbody>\n",
       "</table>\n",
       "</div>"
      ],
      "text/plain": [
       "   children  days_employed  dob_years            education  education_id  \\\n",
       "0         1   -8437.673028         42    bachelor's degree             0   \n",
       "1         1   -4024.803754         36  secondary education             1   \n",
       "2         0   -5623.422610         33  Secondary Education             1   \n",
       "3         3   -4124.747207         32  secondary education             1   \n",
       "4         0  340266.072047         53  secondary education             1   \n",
       "\n",
       "       family_status  family_status_id gender income_type  debt  total_income  \\\n",
       "0            married                 0      F    employee     0     40620.102   \n",
       "1            married                 0      F    employee     0     17932.802   \n",
       "2            married                 0      M    employee     0     23341.752   \n",
       "3            married                 0      M    employee     0     42820.568   \n",
       "4  civil partnership                 1      F     retiree     0     25378.572   \n",
       "\n",
       "                   purpose  \n",
       "0    purchase of the house  \n",
       "1             car purchase  \n",
       "2    purchase of the house  \n",
       "3  supplementary education  \n",
       "4        to have a wedding  "
      ]
     },
     "execution_count": 3,
     "metadata": {},
     "output_type": "execute_result"
    }
   ],
   "source": [
    "df.head()"
   ]
  },
  {
   "cell_type": "code",
   "execution_count": 4,
   "id": "e8650be5",
   "metadata": {},
   "outputs": [
    {
     "name": "stdout",
     "output_type": "stream",
     "text": [
      "<class 'pandas.core.frame.DataFrame'>\n",
      "RangeIndex: 21525 entries, 0 to 21524\n",
      "Data columns (total 12 columns):\n",
      " #   Column            Non-Null Count  Dtype  \n",
      "---  ------            --------------  -----  \n",
      " 0   children          21525 non-null  int64  \n",
      " 1   days_employed     19351 non-null  float64\n",
      " 2   dob_years         21525 non-null  int64  \n",
      " 3   education         21525 non-null  object \n",
      " 4   education_id      21525 non-null  int64  \n",
      " 5   family_status     21525 non-null  object \n",
      " 6   family_status_id  21525 non-null  int64  \n",
      " 7   gender            21525 non-null  object \n",
      " 8   income_type       21525 non-null  object \n",
      " 9   debt              21525 non-null  int64  \n",
      " 10  total_income      19351 non-null  float64\n",
      " 11  purpose           21525 non-null  object \n",
      "dtypes: float64(2), int64(5), object(5)\n",
      "memory usage: 2.0+ MB\n"
     ]
    }
   ],
   "source": [
    "df.info()"
   ]
  },
  {
   "cell_type": "code",
   "execution_count": 5,
   "id": "214dcaec",
   "metadata": {},
   "outputs": [
    {
     "data": {
      "text/plain": [
       "children               0\n",
       "days_employed       2174\n",
       "dob_years              0\n",
       "education              0\n",
       "education_id           0\n",
       "family_status          0\n",
       "family_status_id       0\n",
       "gender                 0\n",
       "income_type            0\n",
       "debt                   0\n",
       "total_income        2174\n",
       "purpose                0\n",
       "dtype: int64"
      ]
     },
     "execution_count": 5,
     "metadata": {},
     "output_type": "execute_result"
    }
   ],
   "source": [
    "df.isna().sum()"
   ]
  },
  {
   "cell_type": "markdown",
   "id": "504ceeb0",
   "metadata": {},
   "source": [
    "**DATA PRE-PROCESSING:**"
   ]
  },
  {
   "cell_type": "markdown",
   "id": "103e4023",
   "metadata": {},
   "source": [
    "**NaN values**"
   ]
  },
  {
   "cell_type": "markdown",
   "id": "fcd57fac",
   "metadata": {},
   "source": [
    "**Note:** days_employed is not necessary for the analysis, hence we will delete the columnn"
   ]
  },
  {
   "cell_type": "code",
   "execution_count": 6,
   "id": "da0a5519",
   "metadata": {},
   "outputs": [
    {
     "name": "stdout",
     "output_type": "stream",
     "text": [
      "<class 'pandas.core.frame.DataFrame'>\n",
      "RangeIndex: 21525 entries, 0 to 21524\n",
      "Data columns (total 11 columns):\n",
      " #   Column            Non-Null Count  Dtype  \n",
      "---  ------            --------------  -----  \n",
      " 0   children          21525 non-null  int64  \n",
      " 1   dob_years         21525 non-null  int64  \n",
      " 2   education         21525 non-null  object \n",
      " 3   education_id      21525 non-null  int64  \n",
      " 4   family_status     21525 non-null  object \n",
      " 5   family_status_id  21525 non-null  int64  \n",
      " 6   gender            21525 non-null  object \n",
      " 7   income_type       21525 non-null  object \n",
      " 8   debt              21525 non-null  int64  \n",
      " 9   total_income      19351 non-null  float64\n",
      " 10  purpose           21525 non-null  object \n",
      "dtypes: float64(1), int64(5), object(5)\n",
      "memory usage: 1.8+ MB\n"
     ]
    }
   ],
   "source": [
    "df.drop(columns='days_employed', errors='ignore', inplace=True)\n",
    "df.info()"
   ]
  },
  {
   "cell_type": "markdown",
   "id": "b0e39bf9",
   "metadata": {},
   "source": [
    "***- NaN values in total_income column***"
   ]
  },
  {
   "cell_type": "code",
   "execution_count": 7,
   "id": "80f09484",
   "metadata": {},
   "outputs": [
    {
     "data": {
      "text/plain": [
       "362496.645"
      ]
     },
     "execution_count": 7,
     "metadata": {},
     "output_type": "execute_result"
    }
   ],
   "source": [
    "income_max = df['total_income'].max()\n",
    "income_max"
   ]
  },
  {
   "cell_type": "code",
   "execution_count": 8,
   "id": "82513809",
   "metadata": {},
   "outputs": [
    {
     "data": {
      "text/plain": [
       "3306.762"
      ]
     },
     "execution_count": 8,
     "metadata": {},
     "output_type": "execute_result"
    }
   ],
   "source": [
    "income_min = df['total_income'].min()\n",
    "income_min"
   ]
  },
  {
   "cell_type": "markdown",
   "id": "de0594d5",
   "metadata": {},
   "source": [
    "**Conclusión:** Because there is a big difference between max and min values, we will use the median as a representative value for substituting the NaN values."
   ]
  },
  {
   "cell_type": "code",
   "execution_count": 9,
   "id": "ef6e8078",
   "metadata": {},
   "outputs": [
    {
     "data": {
      "text/plain": [
       "23202.87"
      ]
     },
     "execution_count": 9,
     "metadata": {},
     "output_type": "execute_result"
    }
   ],
   "source": [
    "income_median = df['total_income'].median()\n",
    "income_median"
   ]
  },
  {
   "cell_type": "code",
   "execution_count": 10,
   "id": "61824fa7",
   "metadata": {},
   "outputs": [
    {
     "name": "stdout",
     "output_type": "stream",
     "text": [
      "<class 'pandas.core.frame.DataFrame'>\n",
      "RangeIndex: 21525 entries, 0 to 21524\n",
      "Data columns (total 11 columns):\n",
      " #   Column            Non-Null Count  Dtype  \n",
      "---  ------            --------------  -----  \n",
      " 0   children          21525 non-null  int64  \n",
      " 1   dob_years         21525 non-null  int64  \n",
      " 2   education         21525 non-null  object \n",
      " 3   education_id      21525 non-null  int64  \n",
      " 4   family_status     21525 non-null  object \n",
      " 5   family_status_id  21525 non-null  int64  \n",
      " 6   gender            21525 non-null  object \n",
      " 7   income_type       21525 non-null  object \n",
      " 8   debt              21525 non-null  int64  \n",
      " 9   total_income      21525 non-null  float64\n",
      " 10  purpose           21525 non-null  object \n",
      "dtypes: float64(1), int64(5), object(5)\n",
      "memory usage: 1.8+ MB\n"
     ]
    }
   ],
   "source": [
    "df['total_income'] = df['total_income'].fillna(income_median)\n",
    "df.info()"
   ]
  },
  {
   "cell_type": "markdown",
   "id": "a41da37b",
   "metadata": {},
   "source": [
    "**Conclusion:** No more NaN values in dataset"
   ]
  },
  {
   "cell_type": "markdown",
   "id": "7aaf9652",
   "metadata": {},
   "source": [
    "**Changing data type in total_income column (float to integer)**"
   ]
  },
  {
   "cell_type": "code",
   "execution_count": 11,
   "id": "652ad633",
   "metadata": {},
   "outputs": [
    {
     "name": "stdout",
     "output_type": "stream",
     "text": [
      "<class 'pandas.core.frame.DataFrame'>\n",
      "RangeIndex: 21525 entries, 0 to 21524\n",
      "Data columns (total 11 columns):\n",
      " #   Column            Non-Null Count  Dtype \n",
      "---  ------            --------------  ----- \n",
      " 0   children          21525 non-null  int64 \n",
      " 1   dob_years         21525 non-null  int64 \n",
      " 2   education         21525 non-null  object\n",
      " 3   education_id      21525 non-null  int64 \n",
      " 4   family_status     21525 non-null  object\n",
      " 5   family_status_id  21525 non-null  int64 \n",
      " 6   gender            21525 non-null  object\n",
      " 7   income_type       21525 non-null  object\n",
      " 8   debt              21525 non-null  int64 \n",
      " 9   total_income      21525 non-null  int64 \n",
      " 10  purpose           21525 non-null  object\n",
      "dtypes: int64(6), object(5)\n",
      "memory usage: 1.8+ MB\n"
     ]
    }
   ],
   "source": [
    "df['total_income'] = pd.to_numeric(df['total_income'], errors='raise').astype('int')\n",
    "df.info()"
   ]
  },
  {
   "cell_type": "markdown",
   "id": "872ff920",
   "metadata": {},
   "source": [
    "**Implicit duplicates**"
   ]
  },
  {
   "cell_type": "markdown",
   "id": "5a6252fd",
   "metadata": {},
   "source": [
    "***- Education column***"
   ]
  },
  {
   "cell_type": "code",
   "execution_count": 12,
   "id": "9a442f5c",
   "metadata": {},
   "outputs": [
    {
     "data": {
      "text/plain": [
       "secondary education    13750\n",
       "bachelor's degree       4718\n",
       "SECONDARY EDUCATION      772\n",
       "Secondary Education      711\n",
       "some college             668\n",
       "BACHELOR'S DEGREE        274\n",
       "Bachelor's Degree        268\n",
       "primary education        250\n",
       "Some College              47\n",
       "SOME COLLEGE              29\n",
       "PRIMARY EDUCATION         17\n",
       "Primary Education         15\n",
       "graduate degree            4\n",
       "GRADUATE DEGREE            1\n",
       "Graduate Degree            1\n",
       "Name: education, dtype: int64"
      ]
     },
     "execution_count": 12,
     "metadata": {},
     "output_type": "execute_result"
    }
   ],
   "source": [
    "d1 = df['education'].value_counts().sort_values(ascending=False)\n",
    "d1"
   ]
  },
  {
   "cell_type": "code",
   "execution_count": 13,
   "id": "abbf67f9",
   "metadata": {},
   "outputs": [],
   "source": [
    "df['education'] = df['education'].str.lower()"
   ]
  },
  {
   "cell_type": "code",
   "execution_count": 14,
   "id": "a03b87a2",
   "metadata": {},
   "outputs": [
    {
     "data": {
      "text/plain": [
       "secondary education    15233\n",
       "bachelor's degree       5260\n",
       "some college             744\n",
       "primary education        282\n",
       "graduate degree            6\n",
       "Name: education, dtype: int64"
      ]
     },
     "execution_count": 14,
     "metadata": {},
     "output_type": "execute_result"
    }
   ],
   "source": [
    "d1 = df['education'].value_counts().sort_values(ascending=False)\n",
    "d1"
   ]
  },
  {
   "cell_type": "markdown",
   "id": "c347dded",
   "metadata": {},
   "source": [
    "***- Family_status column***"
   ]
  },
  {
   "cell_type": "code",
   "execution_count": 15,
   "id": "870cb2b5",
   "metadata": {},
   "outputs": [
    {
     "data": {
      "text/plain": [
       "married              12380\n",
       "civil partnership     4177\n",
       "unmarried             2813\n",
       "divorced              1195\n",
       "widow / widower        960\n",
       "Name: family_status, dtype: int64"
      ]
     },
     "execution_count": 15,
     "metadata": {},
     "output_type": "execute_result"
    }
   ],
   "source": [
    "d2 = df['family_status'].value_counts().sort_values(ascending=False)\n",
    "d2"
   ]
  },
  {
   "cell_type": "code",
   "execution_count": 16,
   "id": "6fccab1b",
   "metadata": {},
   "outputs": [],
   "source": [
    "df.loc[df['family_status'] == 'widow / widower', 'family_status'] = 'widowed'"
   ]
  },
  {
   "cell_type": "code",
   "execution_count": 17,
   "id": "87358b68",
   "metadata": {},
   "outputs": [
    {
     "data": {
      "text/plain": [
       "married              12380\n",
       "civil partnership     4177\n",
       "unmarried             2813\n",
       "divorced              1195\n",
       "widowed                960\n",
       "Name: family_status, dtype: int64"
      ]
     },
     "execution_count": 17,
     "metadata": {},
     "output_type": "execute_result"
    }
   ],
   "source": [
    "d2 = df['family_status'].value_counts().sort_values(ascending=False)\n",
    "d2"
   ]
  },
  {
   "cell_type": "markdown",
   "id": "4baa6019",
   "metadata": {},
   "source": [
    "***- Gender column***"
   ]
  },
  {
   "cell_type": "code",
   "execution_count": 18,
   "id": "2bbd8be6",
   "metadata": {},
   "outputs": [
    {
     "data": {
      "text/plain": [
       "F      14236\n",
       "M       7288\n",
       "XNA        1\n",
       "Name: gender, dtype: int64"
      ]
     },
     "execution_count": 18,
     "metadata": {},
     "output_type": "execute_result"
    }
   ],
   "source": [
    "d3 = df['gender'].value_counts().sort_values(ascending=False)\n",
    "d3"
   ]
  },
  {
   "cell_type": "code",
   "execution_count": 19,
   "id": "4e59390f",
   "metadata": {},
   "outputs": [],
   "source": [
    "df.loc[df['gender'] == 'XNA', 'gender'] = 'NA'"
   ]
  },
  {
   "cell_type": "code",
   "execution_count": 20,
   "id": "38c002a6",
   "metadata": {},
   "outputs": [
    {
     "data": {
      "text/plain": [
       "F     14236\n",
       "M      7288\n",
       "NA        1\n",
       "Name: gender, dtype: int64"
      ]
     },
     "execution_count": 20,
     "metadata": {},
     "output_type": "execute_result"
    }
   ],
   "source": [
    "d3 = df['gender'].value_counts().sort_values(ascending=False)\n",
    "d3"
   ]
  },
  {
   "cell_type": "markdown",
   "id": "90f142ac",
   "metadata": {},
   "source": [
    "***- Income_type column***"
   ]
  },
  {
   "cell_type": "code",
   "execution_count": 21,
   "id": "bb681f9e",
   "metadata": {},
   "outputs": [
    {
     "data": {
      "text/plain": [
       "employee                       11119\n",
       "business                        5085\n",
       "retiree                         3856\n",
       "civil servant                   1459\n",
       "unemployed                         2\n",
       "entrepreneur                       2\n",
       "student                            1\n",
       "paternity / maternity leave        1\n",
       "Name: income_type, dtype: int64"
      ]
     },
     "execution_count": 21,
     "metadata": {},
     "output_type": "execute_result"
    }
   ],
   "source": [
    "d4 = df['income_type'].value_counts().sort_values(ascending=False)\n",
    "d4"
   ]
  },
  {
   "cell_type": "markdown",
   "id": "c6deaf9f",
   "metadata": {},
   "source": [
    "**- Purpose column**"
   ]
  },
  {
   "cell_type": "code",
   "execution_count": 22,
   "id": "f13c025f",
   "metadata": {},
   "outputs": [
    {
     "data": {
      "text/plain": [
       "wedding ceremony                            797\n",
       "having a wedding                            777\n",
       "to have a wedding                           774\n",
       "real estate transactions                    676\n",
       "buy commercial real estate                  664\n",
       "housing transactions                        653\n",
       "buying property for renting out             653\n",
       "transactions with commercial real estate    651\n",
       "housing                                     647\n",
       "purchase of the house                       647\n",
       "purchase of the house for my family         641\n",
       "construction of own property                635\n",
       "property                                    634\n",
       "transactions with my real estate            630\n",
       "building a real estate                      626\n",
       "buy real estate                             624\n",
       "building a property                         620\n",
       "purchase of my own house                    620\n",
       "housing renovation                          612\n",
       "buy residential real estate                 607\n",
       "buying my own car                           505\n",
       "going to university                         496\n",
       "car                                         495\n",
       "second-hand car purchase                    489\n",
       "to own a car                                480\n",
       "buying a second-hand car                    479\n",
       "cars                                        478\n",
       "to buy a car                                472\n",
       "supplementary education                     462\n",
       "car purchase                                462\n",
       "purchase of a car                           455\n",
       "university education                        453\n",
       "education                                   447\n",
       "to get a supplementary education            447\n",
       "getting an education                        443\n",
       "profile education                           436\n",
       "getting higher education                    426\n",
       "to become educated                          412\n",
       "Name: purpose, dtype: int64"
      ]
     },
     "execution_count": 22,
     "metadata": {},
     "output_type": "execute_result"
    }
   ],
   "source": [
    "d5 = df['purpose'].value_counts().sort_values(ascending=False)\n",
    "d5"
   ]
  },
  {
   "cell_type": "markdown",
   "id": "4ff273d9",
   "metadata": {},
   "source": [
    "**categorize**\n",
    "\n",
    "The following columns will be categorized:\n",
    "\n",
    "- purpose\n",
    "- total_income\n",
    "- debt\n",
    "- children"
   ]
  },
  {
   "cell_type": "markdown",
   "id": "10a2c434",
   "metadata": {},
   "source": [
    "***- Categorizing purpose column***"
   ]
  },
  {
   "cell_type": "code",
   "execution_count": 23,
   "id": "6a789d71",
   "metadata": {},
   "outputs": [],
   "source": [
    "def purpose_categ(purpose):\n",
    "    if 'property' in purpose:\n",
    "        return 'real estate'\n",
    "    if 'real estate' in purpose:\n",
    "        return 'real estate'\n",
    "    if 'hous' in purpose:\n",
    "        return 'real estate'\n",
    "    if 'car' in purpose:\n",
    "        return 'buy a car'\n",
    "    if 'educat' in purpose:\n",
    "        return 'education'\n",
    "    if 'university' in purpose:\n",
    "        return 'education'\n",
    "    if 'wedding' in purpose:\n",
    "        return 'wedding'"
   ]
  },
  {
   "cell_type": "code",
   "execution_count": 24,
   "id": "6bb70053",
   "metadata": {},
   "outputs": [],
   "source": [
    "df['purpose'] = df['purpose'].apply(purpose_categ)"
   ]
  },
  {
   "cell_type": "code",
   "execution_count": 25,
   "id": "a7d5e3f5",
   "metadata": {},
   "outputs": [
    {
     "data": {
      "text/plain": [
       "buy a car       4315\n",
       "education       4022\n",
       "real estate    10840\n",
       "wedding         2348\n",
       "Name: purpose, dtype: int64"
      ]
     },
     "execution_count": 25,
     "metadata": {},
     "output_type": "execute_result"
    }
   ],
   "source": [
    "d6 = df['purpose'].value_counts(dropna=False).sort_index(axis=0, ascending=True)\n",
    "d6"
   ]
  },
  {
   "cell_type": "markdown",
   "id": "61a73ba0",
   "metadata": {},
   "source": [
    "***- Categorizing children column***"
   ]
  },
  {
   "cell_type": "code",
   "execution_count": 26,
   "id": "b362e52e",
   "metadata": {},
   "outputs": [
    {
     "data": {
      "text/plain": [
       " 0     14149\n",
       " 1      4818\n",
       " 2      2055\n",
       " 3       330\n",
       " 20       76\n",
       "-1        47\n",
       " 4        41\n",
       " 5         9\n",
       "Name: children, dtype: int64"
      ]
     },
     "execution_count": 26,
     "metadata": {},
     "output_type": "execute_result"
    }
   ],
   "source": [
    "d7 = df['children'].value_counts().sort_values(ascending=False)\n",
    "d7"
   ]
  },
  {
   "cell_type": "markdown",
   "id": "0d11f613",
   "metadata": {},
   "source": [
    "**Conclusion:**\n",
    "\n",
    "- Negatives values will be considered a typo, they are a positive quantity.\n",
    "- 20 children is not a logical value, it will be considered a typo too, and changed to 2"
   ]
  },
  {
   "cell_type": "code",
   "execution_count": 27,
   "id": "2a989a2d",
   "metadata": {},
   "outputs": [],
   "source": [
    "df['children'] = df['children'].abs()"
   ]
  },
  {
   "cell_type": "code",
   "execution_count": 28,
   "id": "4b27f405",
   "metadata": {},
   "outputs": [],
   "source": [
    "df.loc[df['children'] == 20, 'children'] = 2"
   ]
  },
  {
   "cell_type": "code",
   "execution_count": 29,
   "id": "0108ede7",
   "metadata": {},
   "outputs": [
    {
     "data": {
      "text/plain": [
       "0    14149\n",
       "1     4865\n",
       "2     2131\n",
       "3      330\n",
       "4       41\n",
       "5        9\n",
       "Name: children, dtype: int64"
      ]
     },
     "execution_count": 29,
     "metadata": {},
     "output_type": "execute_result"
    }
   ],
   "source": [
    "d8 = df['children'].value_counts().sort_values(ascending=False)\n",
    "d8"
   ]
  },
  {
   "cell_type": "code",
   "execution_count": 30,
   "id": "158cde78",
   "metadata": {},
   "outputs": [],
   "source": [
    "def children_categ(num_children):\n",
    "    if num_children == 0:\n",
    "        return 'no children'\n",
    "    if num_children > 0:\n",
    "        return 'children'"
   ]
  },
  {
   "cell_type": "code",
   "execution_count": 31,
   "id": "66b52e5f",
   "metadata": {},
   "outputs": [],
   "source": [
    "df['children_categ'] = df['children'].apply(children_categ)"
   ]
  },
  {
   "cell_type": "code",
   "execution_count": 32,
   "id": "6c19a51c",
   "metadata": {},
   "outputs": [
    {
     "data": {
      "text/plain": [
       "no children    14149\n",
       "children        7376\n",
       "Name: children_categ, dtype: int64"
      ]
     },
     "execution_count": 32,
     "metadata": {},
     "output_type": "execute_result"
    }
   ],
   "source": [
    "d9 = df['children_categ'].value_counts().sort_values(ascending=False)\n",
    "d9"
   ]
  },
  {
   "cell_type": "code",
   "execution_count": 33,
   "id": "f0ef8fe4",
   "metadata": {},
   "outputs": [
    {
     "name": "stdout",
     "output_type": "stream",
     "text": [
      "<class 'pandas.core.frame.DataFrame'>\n",
      "RangeIndex: 21525 entries, 0 to 21524\n",
      "Data columns (total 12 columns):\n",
      " #   Column            Non-Null Count  Dtype \n",
      "---  ------            --------------  ----- \n",
      " 0   children          21525 non-null  int64 \n",
      " 1   dob_years         21525 non-null  int64 \n",
      " 2   education         21525 non-null  object\n",
      " 3   education_id      21525 non-null  int64 \n",
      " 4   family_status     21525 non-null  object\n",
      " 5   family_status_id  21525 non-null  int64 \n",
      " 6   gender            21525 non-null  object\n",
      " 7   income_type       21525 non-null  object\n",
      " 8   debt              21525 non-null  int64 \n",
      " 9   total_income      21525 non-null  int64 \n",
      " 10  purpose           21525 non-null  object\n",
      " 11  children_categ    21525 non-null  object\n",
      "dtypes: int64(6), object(6)\n",
      "memory usage: 2.0+ MB\n"
     ]
    }
   ],
   "source": [
    "df.info()"
   ]
  },
  {
   "cell_type": "markdown",
   "id": "0122beb3",
   "metadata": {},
   "source": [
    "***- Categorizing debt column***"
   ]
  },
  {
   "cell_type": "code",
   "execution_count": 34,
   "id": "a7380ce4",
   "metadata": {},
   "outputs": [
    {
     "data": {
      "text/plain": [
       "0    19784\n",
       "1     1741\n",
       "Name: debt, dtype: int64"
      ]
     },
     "execution_count": 34,
     "metadata": {},
     "output_type": "execute_result"
    }
   ],
   "source": [
    "d10 = df['debt'].value_counts().sort_values(ascending=False)\n",
    "d10"
   ]
  },
  {
   "cell_type": "code",
   "execution_count": 35,
   "id": "c5bf349e",
   "metadata": {},
   "outputs": [],
   "source": [
    "def debt_categ(debt):\n",
    "    if debt == 0:\n",
    "        return 'on time'\n",
    "    if debt == 1:\n",
    "        return 'default'"
   ]
  },
  {
   "cell_type": "code",
   "execution_count": 36,
   "id": "0f97ae9f",
   "metadata": {},
   "outputs": [],
   "source": [
    "df['debt_categ'] = df['debt'].apply(debt_categ)"
   ]
  },
  {
   "cell_type": "code",
   "execution_count": 37,
   "id": "49674eef",
   "metadata": {},
   "outputs": [
    {
     "data": {
      "text/plain": [
       "on time    19784\n",
       "default     1741\n",
       "Name: debt_categ, dtype: int64"
      ]
     },
     "execution_count": 37,
     "metadata": {},
     "output_type": "execute_result"
    }
   ],
   "source": [
    "d10 = df['debt_categ'].value_counts().sort_values(ascending=False)\n",
    "d10"
   ]
  },
  {
   "cell_type": "code",
   "execution_count": 38,
   "id": "4db2b336",
   "metadata": {},
   "outputs": [
    {
     "data": {
      "text/html": [
       "<div>\n",
       "<style scoped>\n",
       "    .dataframe tbody tr th:only-of-type {\n",
       "        vertical-align: middle;\n",
       "    }\n",
       "\n",
       "    .dataframe tbody tr th {\n",
       "        vertical-align: top;\n",
       "    }\n",
       "\n",
       "    .dataframe thead th {\n",
       "        text-align: right;\n",
       "    }\n",
       "</style>\n",
       "<table border=\"1\" class=\"dataframe\">\n",
       "  <thead>\n",
       "    <tr style=\"text-align: right;\">\n",
       "      <th></th>\n",
       "      <th>debt</th>\n",
       "      <th>debt_categ</th>\n",
       "    </tr>\n",
       "  </thead>\n",
       "  <tbody>\n",
       "    <tr>\n",
       "      <th>0</th>\n",
       "      <td>0</td>\n",
       "      <td>on time</td>\n",
       "    </tr>\n",
       "    <tr>\n",
       "      <th>1</th>\n",
       "      <td>1</td>\n",
       "      <td>default</td>\n",
       "    </tr>\n",
       "  </tbody>\n",
       "</table>\n",
       "</div>"
      ],
      "text/plain": [
       "   debt debt_categ\n",
       "0     0    on time\n",
       "1     1    default"
      ]
     },
     "execution_count": 38,
     "metadata": {},
     "output_type": "execute_result"
    }
   ],
   "source": [
    "debt_status_dict = df[['debt', 'debt_categ']]\n",
    "debt_status_dict = debt_status_dict.drop_duplicates().reset_index(drop=True).sort_values(by='debt', ascending=True)\n",
    "debt_status_dict"
   ]
  },
  {
   "cell_type": "markdown",
   "id": "c6f4c0c6",
   "metadata": {},
   "source": [
    "***- Categorizing total_income column***"
   ]
  },
  {
   "cell_type": "code",
   "execution_count": 39,
   "id": "04547504",
   "metadata": {},
   "outputs": [],
   "source": [
    "def total_income_categ(income):\n",
    "    if income >= df['total_income'].median():\n",
    "        return 'above median'\n",
    "    if income < df['total_income'].median():\n",
    "        return 'below median'"
   ]
  },
  {
   "cell_type": "code",
   "execution_count": 40,
   "id": "15e2ca40",
   "metadata": {},
   "outputs": [],
   "source": [
    "df['total_income_categ'] = df['total_income'].apply(total_income_categ)"
   ]
  },
  {
   "cell_type": "code",
   "execution_count": 41,
   "id": "f627ed6b",
   "metadata": {},
   "outputs": [
    {
     "data": {
      "text/plain": [
       "above median    11850\n",
       "below median     9675\n",
       "Name: total_income_categ, dtype: int64"
      ]
     },
     "execution_count": 41,
     "metadata": {},
     "output_type": "execute_result"
    }
   ],
   "source": [
    "d11 = df['total_income_categ'].value_counts().sort_values(ascending=False)\n",
    "d11"
   ]
  },
  {
   "cell_type": "markdown",
   "id": "2da974e7",
   "metadata": {},
   "source": [
    "***- Categorizing family_status column***"
   ]
  },
  {
   "cell_type": "code",
   "execution_count": 42,
   "id": "a40f0122",
   "metadata": {},
   "outputs": [
    {
     "data": {
      "text/html": [
       "<div>\n",
       "<style scoped>\n",
       "    .dataframe tbody tr th:only-of-type {\n",
       "        vertical-align: middle;\n",
       "    }\n",
       "\n",
       "    .dataframe tbody tr th {\n",
       "        vertical-align: top;\n",
       "    }\n",
       "\n",
       "    .dataframe thead th {\n",
       "        text-align: right;\n",
       "    }\n",
       "</style>\n",
       "<table border=\"1\" class=\"dataframe\">\n",
       "  <thead>\n",
       "    <tr style=\"text-align: right;\">\n",
       "      <th></th>\n",
       "      <th>family_status</th>\n",
       "      <th>family_status_id</th>\n",
       "    </tr>\n",
       "  </thead>\n",
       "  <tbody>\n",
       "    <tr>\n",
       "      <th>4</th>\n",
       "      <td>unmarried</td>\n",
       "      <td>4</td>\n",
       "    </tr>\n",
       "    <tr>\n",
       "      <th>3</th>\n",
       "      <td>divorced</td>\n",
       "      <td>3</td>\n",
       "    </tr>\n",
       "    <tr>\n",
       "      <th>2</th>\n",
       "      <td>widowed</td>\n",
       "      <td>2</td>\n",
       "    </tr>\n",
       "    <tr>\n",
       "      <th>1</th>\n",
       "      <td>civil partnership</td>\n",
       "      <td>1</td>\n",
       "    </tr>\n",
       "    <tr>\n",
       "      <th>0</th>\n",
       "      <td>married</td>\n",
       "      <td>0</td>\n",
       "    </tr>\n",
       "  </tbody>\n",
       "</table>\n",
       "</div>"
      ],
      "text/plain": [
       "       family_status  family_status_id\n",
       "4          unmarried                 4\n",
       "3           divorced                 3\n",
       "2            widowed                 2\n",
       "1  civil partnership                 1\n",
       "0            married                 0"
      ]
     },
     "execution_count": 42,
     "metadata": {},
     "output_type": "execute_result"
    }
   ],
   "source": [
    "marital_status_dict = df[['family_status', 'family_status_id']]\n",
    "marital_status_dict = marital_status_dict.drop_duplicates().reset_index(drop=True).sort_values(by='family_status_id', ascending=False)\n",
    "marital_status_dict"
   ]
  },
  {
   "cell_type": "code",
   "execution_count": 43,
   "id": "4a5a117c",
   "metadata": {},
   "outputs": [
    {
     "data": {
      "text/plain": [
       "married              12380\n",
       "civil partnership     4177\n",
       "unmarried             2813\n",
       "divorced              1195\n",
       "widowed                960\n",
       "Name: family_status, dtype: int64"
      ]
     },
     "execution_count": 43,
     "metadata": {},
     "output_type": "execute_result"
    }
   ],
   "source": [
    "d12 = df['family_status'].value_counts().sort_values(ascending=False)\n",
    "d12"
   ]
  },
  {
   "cell_type": "markdown",
   "id": "e79d42df",
   "metadata": {},
   "source": [
    "**RELATIONSHIP BETWEEN HAVING CHILDREN AND BEING IN DEFAULT**"
   ]
  },
  {
   "cell_type": "code",
   "execution_count": 44,
   "id": "03c146ac",
   "metadata": {},
   "outputs": [
    {
     "data": {
      "text/html": [
       "<div>\n",
       "<style scoped>\n",
       "    .dataframe tbody tr th:only-of-type {\n",
       "        vertical-align: middle;\n",
       "    }\n",
       "\n",
       "    .dataframe tbody tr th {\n",
       "        vertical-align: top;\n",
       "    }\n",
       "\n",
       "    .dataframe thead th {\n",
       "        text-align: right;\n",
       "    }\n",
       "</style>\n",
       "<table border=\"1\" class=\"dataframe\">\n",
       "  <thead>\n",
       "    <tr style=\"text-align: right;\">\n",
       "      <th></th>\n",
       "      <th></th>\n",
       "      <th>debt_categ</th>\n",
       "    </tr>\n",
       "    <tr>\n",
       "      <th>children_categ</th>\n",
       "      <th>debt_categ</th>\n",
       "      <th></th>\n",
       "    </tr>\n",
       "  </thead>\n",
       "  <tbody>\n",
       "    <tr>\n",
       "      <th rowspan=\"2\" valign=\"top\">children</th>\n",
       "      <th>on time</th>\n",
       "      <td>6698</td>\n",
       "    </tr>\n",
       "    <tr>\n",
       "      <th>default</th>\n",
       "      <td>678</td>\n",
       "    </tr>\n",
       "    <tr>\n",
       "      <th rowspan=\"2\" valign=\"top\">no children</th>\n",
       "      <th>on time</th>\n",
       "      <td>13086</td>\n",
       "    </tr>\n",
       "    <tr>\n",
       "      <th>default</th>\n",
       "      <td>1063</td>\n",
       "    </tr>\n",
       "  </tbody>\n",
       "</table>\n",
       "</div>"
      ],
      "text/plain": [
       "                           debt_categ\n",
       "children_categ debt_categ            \n",
       "children       on time           6698\n",
       "               default            678\n",
       "no children    on time          13086\n",
       "               default           1063"
      ]
     },
     "execution_count": 44,
     "metadata": {},
     "output_type": "execute_result"
    }
   ],
   "source": [
    "children_data = pd.DataFrame(df.groupby('children_categ')['debt_categ'].value_counts())\n",
    "children_data"
   ]
  },
  {
   "cell_type": "code",
   "execution_count": 45,
   "id": "2996f351",
   "metadata": {},
   "outputs": [
    {
     "data": {
      "text/plain": [
       "debt_categ    9.191974\n",
       "dtype: float64"
      ]
     },
     "execution_count": 45,
     "metadata": {},
     "output_type": "execute_result"
    }
   ],
   "source": [
    "defaul_fraction_children = children_data.loc['children', 'default']['debt_categ'] / children_data.loc['children'].sum()*100\n",
    "defaul_fraction_children"
   ]
  },
  {
   "cell_type": "code",
   "execution_count": 46,
   "id": "52378d1c",
   "metadata": {},
   "outputs": [
    {
     "data": {
      "text/plain": [
       "debt_categ    7.512898\n",
       "dtype: float64"
      ]
     },
     "execution_count": 46,
     "metadata": {},
     "output_type": "execute_result"
    }
   ],
   "source": [
    "defaul_fraction_no_children = children_data.loc['no children', 'default']['debt_categ'] / children_data.loc['no children'].sum()*100\n",
    "defaul_fraction_no_children"
   ]
  },
  {
   "cell_type": "markdown",
   "id": "bba70797",
   "metadata": {},
   "source": [
    "**Conclusion:** Clients with children are more likely to be in default"
   ]
  },
  {
   "cell_type": "markdown",
   "id": "a17cb4bc",
   "metadata": {},
   "source": [
    "**RELATIONSHIP BETWEEN CIVIL STATUS AND BEING IN DEFAULT**"
   ]
  },
  {
   "cell_type": "code",
   "execution_count": 47,
   "id": "2d14a08c",
   "metadata": {},
   "outputs": [
    {
     "data": {
      "text/html": [
       "<div>\n",
       "<style scoped>\n",
       "    .dataframe tbody tr th:only-of-type {\n",
       "        vertical-align: middle;\n",
       "    }\n",
       "\n",
       "    .dataframe tbody tr th {\n",
       "        vertical-align: top;\n",
       "    }\n",
       "\n",
       "    .dataframe thead th {\n",
       "        text-align: right;\n",
       "    }\n",
       "</style>\n",
       "<table border=\"1\" class=\"dataframe\">\n",
       "  <thead>\n",
       "    <tr style=\"text-align: right;\">\n",
       "      <th></th>\n",
       "      <th></th>\n",
       "      <th>debt_categ</th>\n",
       "    </tr>\n",
       "    <tr>\n",
       "      <th>family_status</th>\n",
       "      <th>debt_categ</th>\n",
       "      <th></th>\n",
       "    </tr>\n",
       "  </thead>\n",
       "  <tbody>\n",
       "    <tr>\n",
       "      <th rowspan=\"2\" valign=\"top\">civil partnership</th>\n",
       "      <th>on time</th>\n",
       "      <td>3789</td>\n",
       "    </tr>\n",
       "    <tr>\n",
       "      <th>default</th>\n",
       "      <td>388</td>\n",
       "    </tr>\n",
       "    <tr>\n",
       "      <th rowspan=\"2\" valign=\"top\">divorced</th>\n",
       "      <th>on time</th>\n",
       "      <td>1110</td>\n",
       "    </tr>\n",
       "    <tr>\n",
       "      <th>default</th>\n",
       "      <td>85</td>\n",
       "    </tr>\n",
       "    <tr>\n",
       "      <th rowspan=\"2\" valign=\"top\">married</th>\n",
       "      <th>on time</th>\n",
       "      <td>11449</td>\n",
       "    </tr>\n",
       "    <tr>\n",
       "      <th>default</th>\n",
       "      <td>931</td>\n",
       "    </tr>\n",
       "    <tr>\n",
       "      <th rowspan=\"2\" valign=\"top\">unmarried</th>\n",
       "      <th>on time</th>\n",
       "      <td>2539</td>\n",
       "    </tr>\n",
       "    <tr>\n",
       "      <th>default</th>\n",
       "      <td>274</td>\n",
       "    </tr>\n",
       "    <tr>\n",
       "      <th rowspan=\"2\" valign=\"top\">widowed</th>\n",
       "      <th>on time</th>\n",
       "      <td>897</td>\n",
       "    </tr>\n",
       "    <tr>\n",
       "      <th>default</th>\n",
       "      <td>63</td>\n",
       "    </tr>\n",
       "  </tbody>\n",
       "</table>\n",
       "</div>"
      ],
      "text/plain": [
       "                              debt_categ\n",
       "family_status     debt_categ            \n",
       "civil partnership on time           3789\n",
       "                  default            388\n",
       "divorced          on time           1110\n",
       "                  default             85\n",
       "married           on time          11449\n",
       "                  default            931\n",
       "unmarried         on time           2539\n",
       "                  default            274\n",
       "widowed           on time            897\n",
       "                  default             63"
      ]
     },
     "execution_count": 47,
     "metadata": {},
     "output_type": "execute_result"
    }
   ],
   "source": [
    "civil_status_data = pd.DataFrame(df.groupby('family_status')['debt_categ'].value_counts())\n",
    "civil_status_data"
   ]
  },
  {
   "cell_type": "code",
   "execution_count": 48,
   "id": "5a7abb33",
   "metadata": {},
   "outputs": [
    {
     "data": {
      "text/plain": [
       "debt_categ    9.288963\n",
       "dtype: float64"
      ]
     },
     "execution_count": 48,
     "metadata": {},
     "output_type": "execute_result"
    }
   ],
   "source": [
    "defaul_fraction_civil_partnership = civil_status_data.loc['civil partnership', 'default']['debt_categ'] / civil_status_data.loc['civil partnership'].sum() * 100\n",
    "defaul_fraction_civil_partnership"
   ]
  },
  {
   "cell_type": "code",
   "execution_count": 49,
   "id": "9030e83b",
   "metadata": {},
   "outputs": [
    {
     "data": {
      "text/plain": [
       "debt_categ    7.112971\n",
       "dtype: float64"
      ]
     },
     "execution_count": 49,
     "metadata": {},
     "output_type": "execute_result"
    }
   ],
   "source": [
    "defaul_fraction_divorced = civil_status_data.loc['divorced', 'default']['debt_categ'] / civil_status_data.loc['divorced'].sum() * 100\n",
    "defaul_fraction_divorced"
   ]
  },
  {
   "cell_type": "code",
   "execution_count": 50,
   "id": "d4eba19d",
   "metadata": {},
   "outputs": [
    {
     "data": {
      "text/plain": [
       "debt_categ    7.520194\n",
       "dtype: float64"
      ]
     },
     "execution_count": 50,
     "metadata": {},
     "output_type": "execute_result"
    }
   ],
   "source": [
    "defaul_fraction_married = civil_status_data.loc['married', 'default']['debt_categ'] / civil_status_data.loc['married'].sum() * 100\n",
    "defaul_fraction_married"
   ]
  },
  {
   "cell_type": "code",
   "execution_count": 51,
   "id": "58f97043",
   "metadata": {},
   "outputs": [
    {
     "data": {
      "text/plain": [
       "debt_categ    9.740491\n",
       "dtype: float64"
      ]
     },
     "execution_count": 51,
     "metadata": {},
     "output_type": "execute_result"
    }
   ],
   "source": [
    "defaul_fraction_unmarried = civil_status_data.loc['unmarried', 'default']['debt_categ'] / civil_status_data.loc['unmarried'].sum() * 100\n",
    "defaul_fraction_unmarried"
   ]
  },
  {
   "cell_type": "code",
   "execution_count": 52,
   "id": "0f05966a",
   "metadata": {},
   "outputs": [
    {
     "data": {
      "text/plain": [
       "debt_categ    6.5625\n",
       "dtype: float64"
      ]
     },
     "execution_count": 52,
     "metadata": {},
     "output_type": "execute_result"
    }
   ],
   "source": [
    "defaul_fraction_widowed = civil_status_data.loc['widowed', 'default']['debt_categ'] / civil_status_data.loc['widowed'].sum() * 100\n",
    "defaul_fraction_widowed"
   ]
  },
  {
   "cell_type": "markdown",
   "id": "cc1c5492",
   "metadata": {},
   "source": [
    "**GENERAL CONCLUSION:**\n",
    "\n",
    "- Dataset was pretty good regarding the NaN values, as two columns only had them (NaN values).\n",
    "- Days employed column was deleted because it did not supply any relevance to analysis.\n",
    "- For total_income columns, the median was used to substitue NaN values because there was a big difference between max and min values.\n",
    "- Data type were almost correct in all dataset except for total_income column. Float data type was change to integer.\n",
    "- There were several columns with implicit duplicates, the most of them were related to typo.\n",
    "- Education column went from 15 types of entries to 5 types of entries (67% less).\n",
    "- Purpose, total_income, debt and children columns were categorized to simplify the analysis.\n",
    "- Purpose column with 38 types of entry was categorized (grouped) by 7 categories, getting easy the analysis.\n",
    "- Children column was categorized with 2 categories: children and no-children.\n",
    "- Debt column was categorized eith text entry (string): on time and default category.\n",
    "- For total_income category, the median of this variable was calculated and categorized as above and below the median.\n",
    "- Clients with children are more likely to be in default tha clients with no children.\n",
    "- Regarding the marital status, clients in civil partnership are more likely to be in default.\n",
    "- The more unlikely clients to be in defaul are those who are widowed."
   ]
  }
 ],
 "metadata": {
  "kernelspec": {
   "display_name": "Python 3 (ipykernel)",
   "language": "python",
   "name": "python3"
  },
  "language_info": {
   "codemirror_mode": {
    "name": "ipython",
    "version": 3
   },
   "file_extension": ".py",
   "mimetype": "text/x-python",
   "name": "python",
   "nbconvert_exporter": "python",
   "pygments_lexer": "ipython3",
   "version": "3.9.5"
  },
  "toc": {
   "base_numbering": 1,
   "nav_menu": {},
   "number_sections": true,
   "sideBar": true,
   "skip_h1_title": true,
   "title_cell": "Table of Contents",
   "title_sidebar": "Contents",
   "toc_cell": false,
   "toc_position": {},
   "toc_section_display": true,
   "toc_window_display": false
  }
 },
 "nbformat": 4,
 "nbformat_minor": 5
}
